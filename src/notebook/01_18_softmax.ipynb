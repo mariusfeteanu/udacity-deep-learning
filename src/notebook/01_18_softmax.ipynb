{
 "cells": [
  {
   "cell_type": "code",
   "execution_count": 13,
   "metadata": {
    "collapsed": true
   },
   "outputs": [],
   "source": [
    "scores = [3.0, 1.0, 0.2]"
   ]
  },
  {
   "cell_type": "code",
   "execution_count": 28,
   "metadata": {
    "collapsed": true
   },
   "outputs": [],
   "source": [
    "import numpy as np\n",
    "\n",
    "def softmax(x):\n",
    "    \"\"\"Compute softmax values for each sets of scores in x.\"\"\"\n",
    "    e = np.exp(x)\n",
    "    return np.apply_along_axis(lambda ce: ce/sum(ce), 0, e)"
   ]
  },
  {
   "cell_type": "code",
   "execution_count": 29,
   "metadata": {},
   "outputs": [
    {
     "data": {
      "text/plain": [
       "array([[ 0.09003057,  0.00242826,  0.01587624,  0.33333333],\n",
       "       [ 0.24472847,  0.01794253,  0.11731043,  0.33333333],\n",
       "       [ 0.66524096,  0.97962921,  0.86681333,  0.33333333]])"
      ]
     },
     "execution_count": 29,
     "metadata": {},
     "output_type": "execute_result"
    }
   ],
   "source": [
    "scores = np.array([[1, 2, 3, 6],\n",
    "                   [2, 4, 5, 6],\n",
    "                   [3, 8, 7, 6]])\n",
    "softmax(scores)"
   ]
  },
  {
   "cell_type": "code",
   "execution_count": 31,
   "metadata": {},
   "outputs": [
    {
     "name": "stdout",
     "output_type": "stream",
     "text": [
      "[ -2.00000000e+00  -1.90000000e+00  -1.80000000e+00  -1.70000000e+00\n",
      "  -1.60000000e+00  -1.50000000e+00  -1.40000000e+00  -1.30000000e+00\n",
      "  -1.20000000e+00  -1.10000000e+00  -1.00000000e+00  -9.00000000e-01\n",
      "  -8.00000000e-01  -7.00000000e-01  -6.00000000e-01  -5.00000000e-01\n",
      "  -4.00000000e-01  -3.00000000e-01  -2.00000000e-01  -1.00000000e-01\n",
      "   1.77635684e-15   1.00000000e-01   2.00000000e-01   3.00000000e-01\n",
      "   4.00000000e-01   5.00000000e-01   6.00000000e-01   7.00000000e-01\n",
      "   8.00000000e-01   9.00000000e-01   1.00000000e+00   1.10000000e+00\n",
      "   1.20000000e+00   1.30000000e+00   1.40000000e+00   1.50000000e+00\n",
      "   1.60000000e+00   1.70000000e+00   1.80000000e+00   1.90000000e+00\n",
      "   2.00000000e+00   2.10000000e+00   2.20000000e+00   2.30000000e+00\n",
      "   2.40000000e+00   2.50000000e+00   2.60000000e+00   2.70000000e+00\n",
      "   2.80000000e+00   2.90000000e+00   3.00000000e+00   3.10000000e+00\n",
      "   3.20000000e+00   3.30000000e+00   3.40000000e+00   3.50000000e+00\n",
      "   3.60000000e+00   3.70000000e+00   3.80000000e+00   3.90000000e+00\n",
      "   4.00000000e+00   4.10000000e+00   4.20000000e+00   4.30000000e+00\n",
      "   4.40000000e+00   4.50000000e+00   4.60000000e+00   4.70000000e+00\n",
      "   4.80000000e+00   4.90000000e+00   5.00000000e+00   5.10000000e+00\n",
      "   5.20000000e+00   5.30000000e+00   5.40000000e+00   5.50000000e+00\n",
      "   5.60000000e+00   5.70000000e+00   5.80000000e+00   5.90000000e+00]\n"
     ]
    }
   ],
   "source": [
    "import matplotlib.pyplot as plt\n",
    "x = np.arange(-2.0, 6.0, 0.1)\n",
    "print(x)\n"
   ]
  },
  {
   "cell_type": "code",
   "execution_count": 60,
   "metadata": {},
   "outputs": [
    {
     "name": "stdout",
     "output_type": "stream",
     "text": [
      "[[ -2.00000000e+01  -1.90000000e+01  -1.80000000e+01  -1.70000000e+01\n",
      "   -1.60000000e+01  -1.50000000e+01  -1.40000000e+01  -1.30000000e+01\n",
      "   -1.20000000e+01  -1.10000000e+01  -1.00000000e+01  -9.00000000e+00\n",
      "   -8.00000000e+00  -7.00000000e+00  -6.00000000e+00  -5.00000000e+00\n",
      "   -4.00000000e+00  -3.00000000e+00  -2.00000000e+00  -1.00000000e+00\n",
      "    1.77635684e-14   1.00000000e+00   2.00000000e+00   3.00000000e+00\n",
      "    4.00000000e+00   5.00000000e+00   6.00000000e+00   7.00000000e+00\n",
      "    8.00000000e+00   9.00000000e+00   1.00000000e+01   1.10000000e+01\n",
      "    1.20000000e+01   1.30000000e+01   1.40000000e+01   1.50000000e+01\n",
      "    1.60000000e+01   1.70000000e+01   1.80000000e+01   1.90000000e+01\n",
      "    2.00000000e+01   2.10000000e+01   2.20000000e+01   2.30000000e+01\n",
      "    2.40000000e+01   2.50000000e+01   2.60000000e+01   2.70000000e+01\n",
      "    2.80000000e+01   2.90000000e+01   3.00000000e+01   3.10000000e+01\n",
      "    3.20000000e+01   3.30000000e+01   3.40000000e+01   3.50000000e+01\n",
      "    3.60000000e+01   3.70000000e+01   3.80000000e+01   3.90000000e+01\n",
      "    4.00000000e+01   4.10000000e+01   4.20000000e+01   4.30000000e+01\n",
      "    4.40000000e+01   4.50000000e+01   4.60000000e+01   4.70000000e+01\n",
      "    4.80000000e+01   4.90000000e+01   5.00000000e+01   5.10000000e+01\n",
      "    5.20000000e+01   5.30000000e+01   5.40000000e+01   5.50000000e+01\n",
      "    5.60000000e+01   5.70000000e+01   5.80000000e+01   5.90000000e+01]\n",
      " [  1.00000000e+01   1.00000000e+01   1.00000000e+01   1.00000000e+01\n",
      "    1.00000000e+01   1.00000000e+01   1.00000000e+01   1.00000000e+01\n",
      "    1.00000000e+01   1.00000000e+01   1.00000000e+01   1.00000000e+01\n",
      "    1.00000000e+01   1.00000000e+01   1.00000000e+01   1.00000000e+01\n",
      "    1.00000000e+01   1.00000000e+01   1.00000000e+01   1.00000000e+01\n",
      "    1.00000000e+01   1.00000000e+01   1.00000000e+01   1.00000000e+01\n",
      "    1.00000000e+01   1.00000000e+01   1.00000000e+01   1.00000000e+01\n",
      "    1.00000000e+01   1.00000000e+01   1.00000000e+01   1.00000000e+01\n",
      "    1.00000000e+01   1.00000000e+01   1.00000000e+01   1.00000000e+01\n",
      "    1.00000000e+01   1.00000000e+01   1.00000000e+01   1.00000000e+01\n",
      "    1.00000000e+01   1.00000000e+01   1.00000000e+01   1.00000000e+01\n",
      "    1.00000000e+01   1.00000000e+01   1.00000000e+01   1.00000000e+01\n",
      "    1.00000000e+01   1.00000000e+01   1.00000000e+01   1.00000000e+01\n",
      "    1.00000000e+01   1.00000000e+01   1.00000000e+01   1.00000000e+01\n",
      "    1.00000000e+01   1.00000000e+01   1.00000000e+01   1.00000000e+01\n",
      "    1.00000000e+01   1.00000000e+01   1.00000000e+01   1.00000000e+01\n",
      "    1.00000000e+01   1.00000000e+01   1.00000000e+01   1.00000000e+01\n",
      "    1.00000000e+01   1.00000000e+01   1.00000000e+01   1.00000000e+01\n",
      "    1.00000000e+01   1.00000000e+01   1.00000000e+01   1.00000000e+01\n",
      "    1.00000000e+01   1.00000000e+01   1.00000000e+01   1.00000000e+01]\n",
      " [  2.00000000e+00   2.00000000e+00   2.00000000e+00   2.00000000e+00\n",
      "    2.00000000e+00   2.00000000e+00   2.00000000e+00   2.00000000e+00\n",
      "    2.00000000e+00   2.00000000e+00   2.00000000e+00   2.00000000e+00\n",
      "    2.00000000e+00   2.00000000e+00   2.00000000e+00   2.00000000e+00\n",
      "    2.00000000e+00   2.00000000e+00   2.00000000e+00   2.00000000e+00\n",
      "    2.00000000e+00   2.00000000e+00   2.00000000e+00   2.00000000e+00\n",
      "    2.00000000e+00   2.00000000e+00   2.00000000e+00   2.00000000e+00\n",
      "    2.00000000e+00   2.00000000e+00   2.00000000e+00   2.00000000e+00\n",
      "    2.00000000e+00   2.00000000e+00   2.00000000e+00   2.00000000e+00\n",
      "    2.00000000e+00   2.00000000e+00   2.00000000e+00   2.00000000e+00\n",
      "    2.00000000e+00   2.00000000e+00   2.00000000e+00   2.00000000e+00\n",
      "    2.00000000e+00   2.00000000e+00   2.00000000e+00   2.00000000e+00\n",
      "    2.00000000e+00   2.00000000e+00   2.00000000e+00   2.00000000e+00\n",
      "    2.00000000e+00   2.00000000e+00   2.00000000e+00   2.00000000e+00\n",
      "    2.00000000e+00   2.00000000e+00   2.00000000e+00   2.00000000e+00\n",
      "    2.00000000e+00   2.00000000e+00   2.00000000e+00   2.00000000e+00\n",
      "    2.00000000e+00   2.00000000e+00   2.00000000e+00   2.00000000e+00\n",
      "    2.00000000e+00   2.00000000e+00   2.00000000e+00   2.00000000e+00\n",
      "    2.00000000e+00   2.00000000e+00   2.00000000e+00   2.00000000e+00\n",
      "    2.00000000e+00   2.00000000e+00   2.00000000e+00   2.00000000e+00]]\n"
     ]
    }
   ],
   "source": [
    "scores = np.vstack([10*x, 10*np.ones_like(x), 10*0.2 * np.ones_like(x)])\n",
    "print(scores)"
   ]
  },
  {
   "cell_type": "code",
   "execution_count": 61,
   "metadata": {},
   "outputs": [
    {
     "data": {
      "image/png": "[encoded data removed]",
      "text/plain": [
       "<matplotlib.figure.Figure at 0x7f504ac1f4a8>"
      ]
     },
     "metadata": {},
     "output_type": "display_data"
    }
   ],
   "source": [
    "plt.plot(x, softmax(scores).T, linewidth=2)\n",
    "plt.axes().set_ylim((0,1))\n",
    "plt.show()"
   ]
  },
  {
   "cell_type": "code",
   "execution_count": null,
   "metadata": {
    "collapsed": true
   },
   "outputs": [],
   "source": []
  }
 ],
 "metadata": {
  "kernelspec": {
   "display_name": "Python 3",
   "language": "python",
   "name": "python3"
  },
  "language_info": {
   "codemirror_mode": {
    "name": "ipython",
    "version": 3
   },
   "file_extension": ".py",
   "mimetype": "text/x-python",
   "name": "python",
   "nbconvert_exporter": "python",
   "pygments_lexer": "ipython3",
   "version": "3.5.2"
  }
 },
 "nbformat": 4,
 "nbformat_minor": 2
}
