{
 "cells": [
  {
   "cell_type": "markdown",
   "metadata": {
    "colab_type": "text",
    "id": "kR-4eNdK6lYS"
   },
   "source": [
    "Deep Learning\n",
    "=============\n",
    "\n",
    "Assignment 3\n",
    "------------\n",
    "\n",
    "Previously in `2_fullyconnected.ipynb`, you trained a logistic regression and a neural network model.\n",
    "\n",
    "The goal of this assignment is to explore regularization techniques."
   ]
  },
  {
   "cell_type": "code",
   "execution_count": 1,
   "metadata": {
    "cellView": "both",
    "colab": {
     "autoexec": {
      "startup": false,
      "wait_interval": 0
     }
    },
    "colab_type": "code",
    "collapsed": true,
    "id": "JLpLa8Jt7Vu4"
   },
   "outputs": [],
   "source": [
    "# These are all the modules we'll be using later. Make sure you can import them\n",
    "# before proceeding further.\n",
    "from __future__ import print_function\n",
    "import numpy as np\n",
    "import tensorflow as tf\n",
    "from six.moves import cPickle as pickle"
   ]
  },
  {
   "cell_type": "markdown",
   "metadata": {
    "colab_type": "text",
    "id": "1HrCK6e17WzV"
   },
   "source": [
    "First reload the data we generated in `1_notmnist.ipynb`."
   ]
  },
  {
   "cell_type": "code",
   "execution_count": 2,
   "metadata": {
    "cellView": "both",
    "colab": {
     "autoexec": {
      "startup": false,
      "wait_interval": 0
     },
     "output_extras": [
      {
       "item_id": 1
      }
     ]
    },
    "colab_type": "code",
    "executionInfo": {
     "elapsed": 11777,
     "status": "ok",
     "timestamp": 1449849322348,
     "user": {
      "color": "",
      "displayName": "",
      "isAnonymous": false,
      "isMe": true,
      "permissionId": "",
      "photoUrl": "",
      "sessionId": "0",
      "userId": ""
     },
     "user_tz": 480
    },
    "id": "y3-cj1bpmuxc",
    "outputId": "e03576f1-ebbe-4838-c388-f1777bcc9873"
   },
   "outputs": [
    {
     "name": "stdout",
     "output_type": "stream",
     "text": [
      "Training set (200000, 28, 28) (200000,)\n",
      "Validation set (10000, 28, 28) (10000,)\n",
      "Test set (10000, 28, 28) (10000,)\n"
     ]
    }
   ],
   "source": [
    "pickle_file = 'notMNIST.pickle'\n",
    "\n",
    "with open(pickle_file, 'rb') as f:\n",
    "  save = pickle.load(f)\n",
    "  train_dataset = save['train_dataset']\n",
    "  train_labels = save['train_labels']\n",
    "  valid_dataset = save['valid_dataset']\n",
    "  valid_labels = save['valid_labels']\n",
    "  test_dataset = save['test_dataset']\n",
    "  test_labels = save['test_labels']\n",
    "  del save  # hint to help gc free up memory\n",
    "  print('Training set', train_dataset.shape, train_labels.shape)\n",
    "  print('Validation set', valid_dataset.shape, valid_labels.shape)\n",
    "  print('Test set', test_dataset.shape, test_labels.shape)"
   ]
  },
  {
   "cell_type": "markdown",
   "metadata": {
    "colab_type": "text",
    "id": "L7aHrm6nGDMB"
   },
   "source": [
    "Reformat into a shape that's more adapted to the models we're going to train:\n",
    "- data as a flat matrix,\n",
    "- labels as float 1-hot encodings."
   ]
  },
  {
   "cell_type": "code",
   "execution_count": 3,
   "metadata": {
    "cellView": "both",
    "colab": {
     "autoexec": {
      "startup": false,
      "wait_interval": 0
     },
     "output_extras": [
      {
       "item_id": 1
      }
     ]
    },
    "colab_type": "code",
    "executionInfo": {
     "elapsed": 11728,
     "status": "ok",
     "timestamp": 1449849322356,
     "user": {
      "color": "",
      "displayName": "",
      "isAnonymous": false,
      "isMe": true,
      "permissionId": "",
      "photoUrl": "",
      "sessionId": "0",
      "userId": ""
     },
     "user_tz": 480
    },
    "id": "IRSyYiIIGIzS",
    "outputId": "3f8996ee-3574-4f44-c953-5c8a04636582"
   },
   "outputs": [
    {
     "name": "stdout",
     "output_type": "stream",
     "text": [
      "Training set (200000, 784) (200000, 10)\n",
      "Validation set (10000, 784) (10000, 10)\n",
      "Test set (10000, 784) (10000, 10)\n"
     ]
    }
   ],
   "source": [
    "image_size = 28\n",
    "num_labels = 10\n",
    "\n",
    "def reformat(dataset, labels):\n",
    "  dataset = dataset.reshape((-1, image_size * image_size)).astype(np.float32)\n",
    "  # Map 1 to [0.0, 1.0, 0.0 ...], 2 to [0.0, 0.0, 1.0 ...]\n",
    "  labels = (np.arange(num_labels) == labels[:,None]).astype(np.float32)\n",
    "  return dataset, labels\n",
    "train_dataset, train_labels = reformat(train_dataset, train_labels)\n",
    "valid_dataset, valid_labels = reformat(valid_dataset, valid_labels)\n",
    "test_dataset, test_labels = reformat(test_dataset, test_labels)\n",
    "print('Training set', train_dataset.shape, train_labels.shape)\n",
    "print('Validation set', valid_dataset.shape, valid_labels.shape)\n",
    "print('Test set', test_dataset.shape, test_labels.shape)"
   ]
  },
  {
   "cell_type": "code",
   "execution_count": 4,
   "metadata": {
    "cellView": "both",
    "colab": {
     "autoexec": {
      "startup": false,
      "wait_interval": 0
     }
    },
    "colab_type": "code",
    "collapsed": true,
    "id": "RajPLaL_ZW6w"
   },
   "outputs": [],
   "source": [
    "def accuracy(predictions, labels):\n",
    "  return (100.0 * np.sum(np.argmax(predictions, 1) == np.argmax(labels, 1))\n",
    "          / predictions.shape[0])"
   ]
  },
  {
   "cell_type": "markdown",
   "metadata": {
    "colab_type": "text",
    "id": "sgLbUAQ1CW-1"
   },
   "source": [
    "---\n",
    "Problem 1\n",
    "---------\n",
    "\n",
    "Introduce and tune L2 regularization for both logistic and neural network models. Remember that L2 amounts to adding a penalty on the norm of the weights to the loss. In TensorFlow, you can compute the L2 loss for a tensor `t` using `nn.l2_loss(t)`. The right amount of regularization should improve your validation / test accuracy.\n",
    "\n",
    "---"
   ]
  },
  {
   "cell_type": "code",
   "execution_count": null,
   "metadata": {},
   "outputs": [
    {
     "name": "stdout",
     "output_type": "stream",
     "text": [
      "CPU times: user 0 ns, sys: 0 ns, total: 0 ns\n",
      "Wall time: 4.53 µs\n",
      "Initialized\n",
      "Minibatch loss at step 0: 305.731110\n",
      "Minibatch accuracy: 12.5%\n",
      "Validation accuracy: 29.9%\n",
      "Minibatch loss at step 500: 24.186081\n",
      "Minibatch accuracy: 84.4%\n",
      "Validation accuracy: 80.0%\n",
      "Minibatch loss at step 1000: 9.285927\n",
      "Minibatch accuracy: 74.2%\n",
      "Validation accuracy: 81.3%\n",
      "Minibatch loss at step 1500: 5.053465\n",
      "Minibatch accuracy: 82.0%\n",
      "Validation accuracy: 81.9%\n"
     ]
    }
   ],
   "source": [
    "%%time\n",
    "\n",
    "batch_size = 128\n",
    "\n",
    "graph = tf.Graph()\n",
    "with graph.as_default():\n",
    "\n",
    "  # Input data. For the training data, we use a placeholder that will be fed\n",
    "  # at run time with a training minibatch.\n",
    "  tf_train_dataset = tf.placeholder(tf.float32,\n",
    "                                    shape=(batch_size, image_size * image_size))\n",
    "  tf_train_labels = tf.placeholder(tf.float32, shape=(batch_size, num_labels))\n",
    "  tf_valid_dataset = tf.constant(valid_dataset)\n",
    "  tf_test_dataset = tf.constant(test_dataset)\n",
    "  \n",
    "  hidden_size = 1024\n",
    "  # Variables.\n",
    "  hidden_weights = tf.Variable(\n",
    "    tf.truncated_normal([image_size * image_size, hidden_size]))\n",
    "  hidden_biases = tf.Variable(tf.zeros([hidden_size]))\n",
    "  \n",
    "  relu = tf.nn.relu(hidden_biases)\n",
    "    \n",
    "  weights = tf.Variable(\n",
    "    tf.truncated_normal([hidden_size, num_labels]))\n",
    "  biases = tf.Variable(tf.zeros([num_labels]))\n",
    "  \n",
    "  def net(ds):\n",
    "    hidden_layer = tf.matmul(ds, hidden_weights) + hidden_biases\n",
    "    relu_layer = tf.nn.relu(hidden_layer)\n",
    "    return tf.matmul(relu_layer, weights) + biases\n",
    "  \n",
    "  # Training computation.\n",
    "  logits = net(tf_train_dataset)\n",
    "  loss = tf.reduce_mean(tf.nn.softmax_cross_entropy_with_logits(labels=tf_train_labels, logits=logits))\n",
    "  \n",
    "  # Optimizer.\n",
    "  optimizer = tf.train.GradientDescentOptimizer(0.5).minimize(loss)\n",
    "  \n",
    "  # Predictions for the training, validation, and test data.\n",
    "  train_prediction = tf.nn.softmax(logits)\n",
    "  valid_prediction = tf.nn.softmax(net(tf_valid_dataset))    \n",
    "  test_prediction = tf.nn.softmax(net(tf_test_dataset))\n",
    "\n",
    "\n",
    "\n",
    "num_steps = 3001\n",
    "\n",
    "with tf.Session(graph=graph) as session:\n",
    "  tf.global_variables_initializer().run()\n",
    "  print(\"Initialized\")\n",
    "  for step in range(num_steps):\n",
    "    # Pick an offset within the training data, which has been randomized.\n",
    "    # Note: we could use better randomization across epochs.\n",
    "    offset = (step * batch_size) % (train_labels.shape[0] - batch_size)\n",
    "    # Generate a minibatch.\n",
    "    batch_data = train_dataset[offset:(offset + batch_size), :]\n",
    "    batch_labels = train_labels[offset:(offset + batch_size), :]\n",
    "    # Prepare a dictionary telling the session where to feed the minibatch.\n",
    "    # The key of the dictionary is the placeholder node of the graph to be fed,\n",
    "    # and the value is the numpy array to feed to it.\n",
    "    feed_dict = {tf_train_dataset : batch_data, tf_train_labels : batch_labels}\n",
    "    _, l, predictions = session.run(\n",
    "      [optimizer, loss, train_prediction], feed_dict=feed_dict)\n",
    "    if (step % 500 == 0):\n",
    "      print(\"Minibatch loss at step %d: %f\" % (step, l))\n",
    "      print(\"Minibatch accuracy: %.1f%%\" % accuracy(predictions, batch_labels))\n",
    "      print(\"Validation accuracy: %.1f%%\" % accuracy(\n",
    "        valid_prediction.eval(), valid_labels))\n",
    "  print(\"Test accuracy: %.1f%%\" % accuracy(test_prediction.eval(), test_labels))"
   ]
  },
  {
   "cell_type": "code",
   "execution_count": 21,
   "metadata": {},
   "outputs": [
    {
     "name": "stdout",
     "output_type": "stream",
     "text": [
      "Initialized\n",
      "Minibatch loss at step 0: 3539.242920\n",
      "Minibatch accuracy: 9.4%\n",
      "Validation accuracy: 19.3%\n",
      "Minibatch loss at step 500: 21.986282\n",
      "Minibatch accuracy: 51.6%\n",
      "Validation accuracy: 82.9%\n",
      "Minibatch loss at step 1000: 1.672355\n",
      "Minibatch accuracy: 50.0%\n",
      "Validation accuracy: 81.8%\n",
      "Minibatch loss at step 1500: 1.408112\n",
      "Minibatch accuracy: 46.9%\n",
      "Validation accuracy: 83.3%\n",
      "Minibatch loss at step 2000: 1.333085\n",
      "Minibatch accuracy: 49.2%\n",
      "Validation accuracy: 83.1%\n",
      "Minibatch loss at step 2500: 1.349300\n",
      "Minibatch accuracy: 52.3%\n",
      "Validation accuracy: 82.9%\n",
      "Minibatch loss at step 3000: 1.496389\n",
      "Minibatch accuracy: 50.8%\n",
      "Validation accuracy: 82.9%\n",
      "Test accuracy: 89.2%\n",
      "CPU times: user 2min 4s, sys: 6.03 s, total: 2min 10s\n",
      "Wall time: 2min 10s\n"
     ]
    }
   ],
   "source": [
    "%%time\n",
    "\n",
    "batch_size = 128\n",
    "\n",
    "graph = tf.Graph()\n",
    "with graph.as_default():\n",
    "\n",
    "  # Input data. For the training data, we use a placeholder that will be fed\n",
    "  # at run time with a training minibatch.\n",
    "  tf_train_dataset = tf.placeholder(tf.float32,\n",
    "                                    shape=(batch_size, image_size * image_size))\n",
    "  tf_train_labels = tf.placeholder(tf.float32, shape=(batch_size, num_labels))\n",
    "  tf_valid_dataset = tf.constant(valid_dataset)\n",
    "  tf_test_dataset = tf.constant(test_dataset)\n",
    "  \n",
    "  hidden_size = 1024\n",
    "  # Variables.\n",
    "  hidden_weights = tf.Variable(\n",
    "    tf.truncated_normal([image_size * image_size, hidden_size]))\n",
    "  hidden_biases = tf.Variable(tf.zeros([hidden_size]))\n",
    "  \n",
    "  relu = tf.nn.relu(hidden_biases)\n",
    "    \n",
    "  weights = tf.Variable(\n",
    "    tf.truncated_normal([hidden_size, num_labels]))\n",
    "  biases = tf.Variable(tf.zeros([num_labels]))\n",
    "  \n",
    "  def net(ds):\n",
    "    hidden_layer = tf.matmul(ds, hidden_weights) + hidden_biases\n",
    "    relu_layer = tf.nn.relu(hidden_layer)\n",
    "    o = tf.matmul(relu_layer, weights) + biases\n",
    "    return o\n",
    "    return (o +\n",
    "      beta*(\n",
    "      tf.nn.l2_loss(hidden_weights) +\n",
    "      tf.nn.l2_loss(weights)))\n",
    "  \n",
    "  # Training computation.\n",
    "  logits = tf.nn.dropout(net(tf_train_dataset), 0.5)\n",
    "  beta = 0.01\n",
    "  reg = beta*(tf.nn.l2_loss(hidden_weights) + tf.nn.l2_loss(weights))\n",
    "  loss = tf.reduce_mean(tf.nn.softmax_cross_entropy_with_logits(labels=tf_train_labels, logits=logits) + reg)\n",
    "  \n",
    "  # Optimizer.\n",
    "  optimizer = tf.train.GradientDescentOptimizer(0.5).minimize(loss)\n",
    "  \n",
    "  # Predictions for the training, validation, and test data.\n",
    "  train_prediction = tf.nn.softmax(logits)\n",
    "  valid_prediction = tf.nn.softmax(net(tf_valid_dataset))    \n",
    "  test_prediction = tf.nn.softmax(net(tf_test_dataset))\n",
    "\n",
    "num_steps = 3001\n",
    "\n",
    "with tf.Session(graph=graph) as session:\n",
    "  tf.global_variables_initializer().run()\n",
    "  print(\"Initialized\")\n",
    "  for step in range(num_steps):\n",
    "    # Pick an offset within the training data, which has been randomized.\n",
    "    # Note: we could use better randomization across epochs.\n",
    "    offset = (step * batch_size) % (train_labels.shape[0] - batch_size)\n",
    "    # Generate a minibatch.\n",
    "    batch_data = train_dataset[offset:(offset + batch_size), :]\n",
    "    batch_labels = train_labels[offset:(offset + batch_size), :]\n",
    "    # Prepare a dictionary telling the session where to feed the minibatch.\n",
    "    # The key of the dictionary is the placeholder node of the graph to be fed,\n",
    "    # and the value is the numpy array to feed to it.\n",
    "    feed_dict = {tf_train_dataset : batch_data, tf_train_labels : batch_labels}\n",
    "    _, l, predictions = session.run(\n",
    "      [optimizer, loss, train_prediction], feed_dict=feed_dict)\n",
    "    if (step % 500 == 0):\n",
    "      print(\"Minibatch loss at step %d: %f\" % (step, l))\n",
    "      print(\"Minibatch accuracy: %.1f%%\" % accuracy(predictions, batch_labels))\n",
    "      print(\"Validation accuracy: %.1f%%\" % accuracy(\n",
    "        valid_prediction.eval(), valid_labels))\n",
    "  print(\"Test accuracy: %.1f%%\" % accuracy(test_prediction.eval(), test_labels))\n",
    "# W:B:R:W:B:L2    90.2, 90.0"
   ]
  },
  {
   "cell_type": "markdown",
   "metadata": {
    "colab_type": "text",
    "id": "na8xX2yHZzNF"
   },
   "source": [
    "---\n",
    "Problem 2\n",
    "---------\n",
    "Let's demonstrate an extreme case of overfitting. Restrict your training data to just a few batches. What happens?\n",
    "\n",
    "---"
   ]
  },
  {
   "cell_type": "code",
   "execution_count": 9,
   "metadata": {
    "collapsed": true
   },
   "outputs": [],
   "source": [
    "batch_size = 12\n",
    "\n",
    "graph = tf.Graph()\n",
    "with graph.as_default():\n",
    "\n",
    "  # Input data. For the training data, we use a placeholder that will be fed\n",
    "  # at run time with a training minibatch.\n",
    "  tf_train_dataset = tf.placeholder(tf.float32,\n",
    "                                    shape=(batch_size, image_size * image_size))\n",
    "  tf_train_labels = tf.placeholder(tf.float32, shape=(batch_size, num_labels))\n",
    "  tf_valid_dataset = tf.constant(valid_dataset)\n",
    "  tf_test_dataset = tf.constant(test_dataset)\n",
    "  \n",
    "  hidden_size = 1024\n",
    "  # Variables.\n",
    "  hidden_weights = tf.Variable(\n",
    "    tf.truncated_normal([image_size * image_size, hidden_size]))\n",
    "  hidden_biases = tf.Variable(tf.zeros([hidden_size]))\n",
    "  \n",
    "  relu = tf.nn.relu(hidden_biases)\n",
    "    \n",
    "  weights = tf.Variable(\n",
    "    tf.truncated_normal([hidden_size, num_labels]))\n",
    "  biases = tf.Variable(tf.zeros([num_labels]))\n",
    "  \n",
    "  def net(ds):\n",
    "    hidden_layer = tf.matmul(ds, hidden_weights) + hidden_biases\n",
    "    relu_layer = tf.nn.relu(hidden_layer)\n",
    "    o = tf.matmul(relu_layer, weights) + biases\n",
    "    return o\n",
    "  \n",
    "  # Training computation.\n",
    "  logits = net(tf_train_dataset)\n",
    "  beta = 0.01\n",
    "  reg = beta*(tf.nn.l2_loss(hidden_weights) + tf.nn.l2_loss(weights))\n",
    "  loss = tf.reduce_mean(tf.nn.softmax_cross_entropy_with_logits(labels=tf_train_labels, logits=logits) + reg)\n",
    "  \n",
    "  # Optimizer.\n",
    "  optimizer = tf.train.GradientDescentOptimizer(0.5).minimize(loss)\n",
    "  \n",
    "  # Predictions for the training, validation, and test data.\n",
    "  train_prediction = tf.nn.softmax(logits)\n",
    "  valid_prediction = tf.nn.softmax(net(tf_valid_dataset))    \n",
    "  test_prediction = tf.nn.softmax(net(tf_test_dataset))\n"
   ]
  },
  {
   "cell_type": "code",
   "execution_count": 10,
   "metadata": {},
   "outputs": [
    {
     "name": "stdout",
     "output_type": "stream",
     "text": [
      "Initialized\n",
      "Minibatch loss at step 0: 3412.172852\n",
      "Minibatch accuracy: 8.3%\n",
      "Validation accuracy: 20.6%\n",
      "Test accuracy: 21.7%\n",
      "Minibatch loss at step 500: 27.756376\n",
      "Minibatch accuracy: 100.0%\n",
      "Validation accuracy: 63.0%\n",
      "Test accuracy: 69.5%\n",
      "Minibatch loss at step 1000: 0.430550\n",
      "Minibatch accuracy: 100.0%\n",
      "Validation accuracy: 70.1%\n",
      "Test accuracy: 76.4%\n",
      "Minibatch loss at step 1500: 0.204788\n",
      "Minibatch accuracy: 100.0%\n",
      "Validation accuracy: 70.1%\n",
      "Test accuracy: 76.3%\n",
      "Minibatch loss at step 2000: 0.189691\n",
      "Minibatch accuracy: 100.0%\n",
      "Validation accuracy: 70.2%\n",
      "Test accuracy: 76.3%\n",
      "Minibatch loss at step 2500: 0.181798\n",
      "Minibatch accuracy: 100.0%\n",
      "Validation accuracy: 70.1%\n",
      "Test accuracy: 76.3%\n",
      "Minibatch loss at step 3000: 0.175812\n",
      "Minibatch accuracy: 100.0%\n",
      "Validation accuracy: 70.3%\n",
      "Test accuracy: 76.4%\n",
      "CPU times: user 39.3 s, sys: 3.13 s, total: 42.4 s\n",
      "Wall time: 42.5 s\n"
     ]
    }
   ],
   "source": [
    "%%time\n",
    "num_steps = 3001\n",
    "\n",
    "with tf.Session(graph=graph) as session:\n",
    "  tf.global_variables_initializer().run()\n",
    "  print(\"Initialized\")\n",
    "  for step in range(num_steps):\n",
    "    # Pick an offset within the training data, which has been randomized.\n",
    "    # Note: we could use better randomization across epochs.\n",
    "    sub_step = step%10\n",
    "    offset = (sub_step * batch_size) % (train_labels.shape[0] - batch_size)\n",
    "    # Generate a minibatch.\n",
    "    batch_data = train_dataset[offset:(offset + batch_size), :]\n",
    "    batch_labels = train_labels[offset:(offset + batch_size), :]\n",
    "    # Prepare a dictionary telling the session where to feed the minibatch.\n",
    "    # The key of the dictionary is the placeholder node of the graph to be fed,\n",
    "    # and the value is the numpy array to feed to it.\n",
    "    feed_dict = {tf_train_dataset : batch_data, tf_train_labels : batch_labels}\n",
    "    _, l, predictions = session.run(\n",
    "      [optimizer, loss, train_prediction], feed_dict=feed_dict)\n",
    "\n",
    "    if (step % 500 == 0):\n",
    "      print(\"Minibatch loss at step %d: %f\" % (step, l))\n",
    "      print(\"Minibatch accuracy: %.1f%%\" % accuracy(predictions, batch_labels))\n",
    "      print(\"Validation accuracy: %.1f%%\" % accuracy(valid_prediction.eval(), valid_labels))\n",
    "      print(\"Test accuracy: %.1f%%\" % accuracy(test_prediction.eval(), test_labels))\n",
    "# W:B:R:W:B:L2    90.2, 90.0"
   ]
  },
  {
   "cell_type": "markdown",
   "metadata": {
    "colab_type": "text",
    "id": "ww3SCBUdlkRc"
   },
   "source": [
    "---\n",
    "Problem 3\n",
    "---------\n",
    "Introduce Dropout on the hidden layer of the neural network. Remember: Dropout should only be introduced during training, not evaluation, otherwise your evaluation results would be stochastic as well. TensorFlow provides `nn.dropout()` for that, but you have to make sure it's only inserted during training.\n",
    "\n",
    "What happens to our extreme overfitting case?\n",
    "\n",
    "---"
   ]
  },
  {
   "cell_type": "code",
   "execution_count": 18,
   "metadata": {
    "collapsed": true
   },
   "outputs": [],
   "source": [
    "batch_size = 12\n",
    "\n",
    "graph = tf.Graph()\n",
    "with graph.as_default():\n",
    "\n",
    "  # Input data. For the training data, we use a placeholder that will be fed\n",
    "  # at run time with a training minibatch.\n",
    "  tf_train_dataset = tf.placeholder(tf.float32,\n",
    "                                    shape=(batch_size, image_size * image_size))\n",
    "  tf_train_labels = tf.placeholder(tf.float32, shape=(batch_size, num_labels))\n",
    "  tf_valid_dataset = tf.constant(valid_dataset)\n",
    "  tf_test_dataset = tf.constant(test_dataset)\n",
    "  \n",
    "  hidden_size = 1024\n",
    "  # Variables.\n",
    "  hidden_weights = tf.Variable(\n",
    "    tf.truncated_normal([image_size * image_size, hidden_size]))\n",
    "  hidden_biases = tf.Variable(tf.zeros([hidden_size]))\n",
    "  \n",
    "  relu = tf.nn.relu(hidden_biases)\n",
    "    \n",
    "  weights = tf.Variable(\n",
    "    tf.truncated_normal([hidden_size, num_labels]))\n",
    "  biases = tf.Variable(tf.zeros([num_labels]))\n",
    "  \n",
    "  def net(ds):\n",
    "    hidden_layer = tf.matmul(ds, hidden_weights) + hidden_biases\n",
    "    relu_layer = tf.nn.relu(hidden_layer)\n",
    "    o = tf.matmul(relu_layer, weights) + biases\n",
    "    return o\n",
    "  \n",
    "  # Training computation.\n",
    "  logits = tf.nn.dropout(net(tf_train_dataset), 0.5)\n",
    "#   logits = net(tf_train_dataset)\n",
    "  beta = 0.01\n",
    "  reg = beta*(tf.nn.l2_loss(hidden_weights) + tf.nn.l2_loss(weights))\n",
    "  loss = tf.reduce_mean(tf.nn.softmax_cross_entropy_with_logits(labels=tf_train_labels, logits=logits) + reg)\n",
    "  \n",
    "  # Optimizer.\n",
    "  optimizer = tf.train.GradientDescentOptimizer(0.5).minimize(loss)\n",
    "  \n",
    "  # Predictions for the training, validation, and test data.\n",
    "  train_prediction = tf.nn.softmax(logits)\n",
    "  valid_prediction = tf.nn.softmax(net(tf_valid_dataset))    \n",
    "  test_prediction = tf.nn.softmax(net(tf_test_dataset))\n"
   ]
  },
  {
   "cell_type": "code",
   "execution_count": 19,
   "metadata": {},
   "outputs": [
    {
     "name": "stdout",
     "output_type": "stream",
     "text": [
      "Initialized\n",
      "Minibatch loss at step 0: 3595.817139\n",
      "Minibatch accuracy: 0.0%\n",
      "Validation accuracy: 16.6%\n",
      "Test accuracy: 17.3%\n",
      "Minibatch loss at step 500: 22731175231488.000000\n",
      "Minibatch accuracy: 8.3%\n",
      "Validation accuracy: 28.4%\n",
      "Test accuracy: 29.5%\n",
      "Minibatch loss at step 1000: 3328978372384094420992.000000\n",
      "Minibatch accuracy: 8.3%\n",
      "Validation accuracy: 29.1%\n",
      "Test accuracy: 30.4%\n",
      "Minibatch loss at step 1500: 369951588088486935455927894016.000000\n",
      "Minibatch accuracy: 16.7%\n",
      "Validation accuracy: 21.5%\n",
      "Test accuracy: 22.0%\n",
      "Minibatch loss at step 2000: nan\n",
      "Minibatch accuracy: 0.0%\n",
      "Validation accuracy: 10.0%\n",
      "Test accuracy: 10.0%\n",
      "Minibatch loss at step 2500: nan\n",
      "Minibatch accuracy: 0.0%\n",
      "Validation accuracy: 10.0%\n",
      "Test accuracy: 10.0%\n",
      "Minibatch loss at step 3000: nan\n",
      "Minibatch accuracy: 0.0%\n",
      "Validation accuracy: 10.0%\n",
      "Test accuracy: 10.0%\n",
      "CPU times: user 38.8 s, sys: 3.63 s, total: 42.4 s\n",
      "Wall time: 42.6 s\n"
     ]
    }
   ],
   "source": [
    "%%time\n",
    "num_steps = 3001\n",
    "\n",
    "with tf.Session(graph=graph) as session:\n",
    "  tf.global_variables_initializer().run()\n",
    "  print(\"Initialized\")\n",
    "  for step in range(num_steps):\n",
    "    # Pick an offset within the training data, which has been randomized.\n",
    "    # Note: we could use better randomization across epochs.\n",
    "    sub_step = step%50\n",
    "    offset = (sub_step * batch_size) % (train_labels.shape[0] - batch_size)\n",
    "    # Generate a minibatch.\n",
    "    batch_data = train_dataset[offset:(offset + batch_size), :]\n",
    "    batch_labels = train_labels[offset:(offset + batch_size), :]\n",
    "    # Prepare a dictionary telling the session where to feed the minibatch.\n",
    "    # The key of the dictionary is the placeholder node of the graph to be fed,\n",
    "    # and the value is the numpy array to feed to it.\n",
    "    feed_dict = {tf_train_dataset : batch_data, tf_train_labels : batch_labels}\n",
    "    _, l, predictions = session.run(\n",
    "      [optimizer, loss, train_prediction], feed_dict=feed_dict)\n",
    "\n",
    "    if (step % 500 == 0):\n",
    "      print(\"Minibatch loss at step %d: %f\" % (step, l))\n",
    "      print(\"Minibatch accuracy: %.1f%%\" % accuracy(predictions, batch_labels))\n",
    "      print(\"Validation accuracy: %.1f%%\" % accuracy(valid_prediction.eval(), valid_labels))\n",
    "      print(\"Test accuracy: %.1f%%\" % accuracy(test_prediction.eval(), test_labels))\n",
    "# W:B:R:W:B:L2    90.2, 90.0"
   ]
  },
  {
   "cell_type": "markdown",
   "metadata": {
    "colab_type": "text",
    "id": "-b1hTz3VWZjw"
   },
   "source": [
    "---\n",
    "Problem 4\n",
    "---------\n",
    "\n",
    "Try to get the best performance you can using a multi-layer model! The best reported test accuracy using a deep network is [97.1%](http://yaroslavvb.blogspot.com/2011/09/notmnist-dataset.html?showComment=1391023266211#c8758720086795711595).\n",
    "\n",
    "One avenue you can explore is to add multiple layers.\n",
    "\n",
    "Another one is to use learning rate decay:\n",
    "\n",
    "    global_step = tf.Variable(0)  # count the number of steps taken.\n",
    "    learning_rate = tf.train.exponential_decay(0.5, global_step, ...)\n",
    "    optimizer = tf.train.GradientDescentOptimizer(learning_rate).minimize(loss, global_step=global_step)\n",
    " \n",
    " ---\n"
   ]
  },
  {
   "cell_type": "code",
   "execution_count": 5,
   "metadata": {
    "collapsed": true
   },
   "outputs": [],
   "source": [
    "def try_hpar(batch_size = 128,\n",
    "             num_steps = 3001,\n",
    "             hidden_size = 1024,\n",
    "             droput_keep=0.9,\n",
    "             learning_rate=0.5,\n",
    "             decay_rate=.95,\n",
    "             beta = 0.01):\n",
    "\n",
    "    graph = tf.Graph()\n",
    "    with graph.as_default():  \n",
    "      global_step = tf.Variable(0)\n",
    "\n",
    "      # Input data. For the training data, we use a placeholder that will be fed\n",
    "      # at run time with a training minibatch.\n",
    "      tf_train_dataset = tf.placeholder(tf.float32,\n",
    "                                        shape=(batch_size, image_size * image_size))\n",
    "      tf_train_labels = tf.placeholder(tf.float32, shape=(batch_size, num_labels))\n",
    "      tf_valid_dataset = tf.constant(valid_dataset)\n",
    "      tf_test_dataset = tf.constant(test_dataset)\n",
    "\n",
    "      \n",
    "      # Variables.\n",
    "      hidden_weights = tf.Variable(\n",
    "        tf.truncated_normal([image_size * image_size, hidden_size]))\n",
    "      hidden_biases = tf.Variable(tf.zeros([hidden_size]))\n",
    "\n",
    "      relu = tf.nn.relu(hidden_biases)\n",
    "\n",
    "      weights = tf.Variable(\n",
    "        tf.truncated_normal([hidden_size, num_labels]))\n",
    "      biases = tf.Variable(tf.zeros([num_labels]))\n",
    "\n",
    "      def net(ds):\n",
    "        hidden_layer = tf.matmul(ds, hidden_weights) + hidden_biases\n",
    "        relu_layer = tf.nn.relu(hidden_layer)\n",
    "        o = tf.matmul(relu_layer, weights) + biases\n",
    "        return o\n",
    "\n",
    "      # Training computation.\n",
    "      logits = tf.nn.dropout(net(tf_train_dataset), droput_keep)\n",
    "    #   logits = net(tf_train_dataset)\n",
    "      \n",
    "      reg = beta*(tf.nn.l2_loss(hidden_weights) + tf.nn.l2_loss(weights))\n",
    "      loss = tf.reduce_mean(tf.nn.softmax_cross_entropy_with_logits(labels=tf_train_labels, logits=logits) + reg)\n",
    "\n",
    "      # Optimizer.\n",
    "      learning_rate = tf.train.exponential_decay(learning_rate=learning_rate,\n",
    "                                                 global_step=global_step,\n",
    "                                                 decay_steps=num_steps,\n",
    "                                                 decay_rate=decay_rate)\n",
    "      optimizer = tf.train.GradientDescentOptimizer(learning_rate).minimize(loss, global_step=global_step)\n",
    "\n",
    "      # Predictions for the training, validation, and test data.\n",
    "      train_prediction = tf.nn.softmax(logits)\n",
    "      valid_prediction = tf.nn.softmax(net(tf_valid_dataset))    \n",
    "      test_prediction = tf.nn.softmax(net(tf_test_dataset))\n",
    "\n",
    "    with tf.Session(graph=graph) as session:\n",
    "      tf.global_variables_initializer().run()\n",
    "#       print(\"Initialized\")\n",
    "      for step in range(num_steps):\n",
    "        # Pick an offset within the training data, which has been randomized.\n",
    "        # Note: we could use better randomization across epochs.\n",
    "        offset = (step * batch_size) % (train_labels.shape[0] - batch_size)\n",
    "        # Generate a minibatch.\n",
    "        batch_data = train_dataset[offset:(offset + batch_size), :]\n",
    "        batch_labels = train_labels[offset:(offset + batch_size), :]\n",
    "        # Prepare a dictionary telling the session where to feed the minibatch.\n",
    "        # The key of the dictionary is the placeholder node of the graph to be fed,\n",
    "        # and the value is the numpy array to feed to it.\n",
    "        feed_dict = {tf_train_dataset : batch_data, tf_train_labels : batch_labels}\n",
    "        _, l, predictions = session.run(\n",
    "          [optimizer, loss, train_prediction], feed_dict=feed_dict)\n",
    "#         if (step % 500 == 0):\n",
    "#             print(\"Minibatch loss at step %d: %f\" % (step, l))\n",
    "#             print(\"Minibatch accuracy: %.1f%%\" % accuracy(predictions, batch_labels))\n",
    "#             print(\"Validation accuracy: %.1f%%\" % accuracy(\n",
    "#         valid_prediction.eval(), valid_labels))\n",
    "    \n",
    "      return accuracy(test_prediction.eval(), test_labels)\n",
    "#       print(\"Test accuracy: %.1f%%\" % accuracy(test_prediction.eval(), test_labels))\n"
   ]
  },
  {
   "cell_type": "code",
   "execution_count": 6,
   "metadata": {},
   "outputs": [
    {
     "name": "stdout",
     "output_type": "stream",
     "text": [
      "CPU times: user 0 ns, sys: 0 ns, total: 0 ns\n",
      "Wall time: 196 µs\n"
     ]
    }
   ],
   "source": [
    "%%time\n",
    "\n",
    "from itertools import product\n",
    "\n",
    "def unpack(x):\n",
    "    return [(list(x.items())[0][0], v) for v in list(x.items())[0][1]]\n",
    "\n",
    "def make_train_grid():\n",
    "    grid_config = {'batch_size': [128],\n",
    "                   'num_steps': [3001],\n",
    "                   'hidden_size': [1024],\n",
    "                   'droput_keep': [0.5],\n",
    "                   'learning_rate': [0.5],\n",
    "                   'decay_rate': [0.95, 0.99],\n",
    "                   'beta': [0.01, 0.005]}\n",
    "    \n",
    "    p = product(*[unpack({k:v}) for k,v in grid_config.items()])\n",
    "    return list([dict(c) for c in p])\n",
    "\n",
    "train_grid = make_train_grid()\n",
    "\n",
    "# for hpar in train_grid:\n",
    "#     try_hpar(**hpar)"
   ]
  },
  {
   "cell_type": "code",
   "execution_count": 7,
   "metadata": {},
   "outputs": [
    {
     "name": "stdout",
     "output_type": "stream",
     "text": [
      "Will try the following (grid size: 4 )\n",
      "{'num_steps': 3001, 'learning_rate': 0.5, 'batch_size': 128, 'droput_keep': 0.5, 'hidden_size': 1024, 'decay_rate': 0.95, 'beta': 0.01}\n",
      "{'num_steps': 3001, 'learning_rate': 0.5, 'batch_size': 128, 'droput_keep': 0.5, 'hidden_size': 1024, 'decay_rate': 0.95, 'beta': 0.005}\n",
      "{'num_steps': 3001, 'learning_rate': 0.5, 'batch_size': 128, 'droput_keep': 0.5, 'hidden_size': 1024, 'decay_rate': 0.99, 'beta': 0.01}\n",
      "{'num_steps': 3001, 'learning_rate': 0.5, 'batch_size': 128, 'droput_keep': 0.5, 'hidden_size': 1024, 'decay_rate': 0.99, 'beta': 0.005}\n"
     ]
    }
   ],
   "source": [
    "print('Will try the following (grid size:', len(train_grid),')')\n",
    "for hpar in train_grid:\n",
    "    print(hpar)"
   ]
  },
  {
   "cell_type": "code",
   "execution_count": 8,
   "metadata": {},
   "outputs": [
    {
     "name": "stdout",
     "output_type": "stream",
     "text": [
      "Starting grid seach\n",
      "CPU times: user 1min 59s, sys: 8.25 s, total: 2min 7s\n",
      "Wall time: 2min 8s\n",
      "[89.230000000000004, {'num_steps': 3001, 'learning_rate': 0.5, 'batch_size': 128, 'droput_keep': 0.5, 'hidden_size': 1024, 'decay_rate': 0.95, 'beta': 0.01}]\n",
      "CPU times: user 1min 57s, sys: 9.33 s, total: 2min 6s\n",
      "Wall time: 2min 6s\n",
      "[90.370000000000005, {'num_steps': 3001, 'learning_rate': 0.5, 'batch_size': 128, 'droput_keep': 0.5, 'hidden_size': 1024, 'decay_rate': 0.95, 'beta': 0.005}]\n",
      "CPU times: user 1min 49s, sys: 8.7 s, total: 1min 58s\n",
      "Wall time: 1min 58s\n",
      "[89.290000000000006, {'num_steps': 3001, 'learning_rate': 0.5, 'batch_size': 128, 'droput_keep': 0.5, 'hidden_size': 1024, 'decay_rate': 0.99, 'beta': 0.01}]\n",
      "CPU times: user 1min 52s, sys: 9.1 s, total: 2min 2s\n",
      "Wall time: 2min 2s\n",
      "[90.590000000000003, {'num_steps': 3001, 'learning_rate': 0.5, 'batch_size': 128, 'droput_keep': 0.5, 'hidden_size': 1024, 'decay_rate': 0.99, 'beta': 0.005}]\n"
     ]
    }
   ],
   "source": [
    "print('Starting grid seach')\n",
    "result = []\n",
    "for hpar in train_grid:\n",
    "    %time r = try_hpar(**hpar)\n",
    "    print([r, hpar])\n",
    "    result.append([r, hpar])\n",
    "    "
   ]
  },
  {
   "cell_type": "code",
   "execution_count": 9,
   "metadata": {},
   "outputs": [
    {
     "data": {
      "text/plain": [
       "[[89.230000000000004,\n",
       "  {'batch_size': 128,\n",
       "   'beta': 0.01,\n",
       "   'decay_rate': 0.95,\n",
       "   'droput_keep': 0.5,\n",
       "   'hidden_size': 1024,\n",
       "   'learning_rate': 0.5,\n",
       "   'num_steps': 3001}],\n",
       " [90.370000000000005,\n",
       "  {'batch_size': 128,\n",
       "   'beta': 0.005,\n",
       "   'decay_rate': 0.95,\n",
       "   'droput_keep': 0.5,\n",
       "   'hidden_size': 1024,\n",
       "   'learning_rate': 0.5,\n",
       "   'num_steps': 3001}],\n",
       " [89.290000000000006,\n",
       "  {'batch_size': 128,\n",
       "   'beta': 0.01,\n",
       "   'decay_rate': 0.99,\n",
       "   'droput_keep': 0.5,\n",
       "   'hidden_size': 1024,\n",
       "   'learning_rate': 0.5,\n",
       "   'num_steps': 3001}],\n",
       " [90.590000000000003,\n",
       "  {'batch_size': 128,\n",
       "   'beta': 0.005,\n",
       "   'decay_rate': 0.99,\n",
       "   'droput_keep': 0.5,\n",
       "   'hidden_size': 1024,\n",
       "   'learning_rate': 0.5,\n",
       "   'num_steps': 3001}]]"
      ]
     },
     "execution_count": 9,
     "metadata": {},
     "output_type": "execute_result"
    }
   ],
   "source": [
    "result"
   ]
  },
  {
   "cell_type": "code",
   "execution_count": null,
   "metadata": {
    "collapsed": true
   },
   "outputs": [],
   "source": []
  }
 ],
 "metadata": {
  "colab": {
   "default_view": {},
   "name": "3_regularization.ipynb",
   "provenance": [],
   "version": "0.3.2",
   "views": {}
  },
  "kernelspec": {
   "display_name": "Python 3",
   "language": "python",
   "name": "python3"
  },
  "language_info": {
   "codemirror_mode": {
    "name": "ipython",
    "version": 3
   },
   "file_extension": ".py",
   "mimetype": "text/x-python",
   "name": "python",
   "nbconvert_exporter": "python",
   "pygments_lexer": "ipython3",
   "version": "3.5.2"
  }
 },
 "nbformat": 4,
 "nbformat_minor": 1
}
